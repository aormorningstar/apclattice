{
 "cells": [
  {
   "cell_type": "code",
   "execution_count": 1,
   "metadata": {},
   "outputs": [],
   "source": [
    "import numpy as np\n",
    "from src.dof import DiscreteDOF\n",
    "from src.unitcell import HoneycombUnitCell\n",
    "from src.lattice import Lattice\n",
    "from src.gate import HoneycombGate"
   ]
  },
  {
   "cell_type": "code",
   "execution_count": 7,
   "metadata": {},
   "outputs": [],
   "source": [
    "# charge 0 or 1 on each site\n",
    "max_charge = 1\n",
    "# two sites per cell\n",
    "spc = 2\n",
    "# degrees of freedom\n",
    "dof = spc * [DiscreteDOF(0, max_charge)]\n",
    "# unit cell\n",
    "uc = HoneycombUnitCell(dof)\n",
    "# number of unit cells in each dimension\n",
    "L = [4, 6]\n",
    "# values of degrees of freedom on lattice sites\n",
    "vals = np.random.choice(range(0, max_charge+1), np.prod(L)*uc.spc)\n",
    "# the lattice\n",
    "lat = Lattice(uc, L, vals, periodic=True)\n",
    "# gate to enact dynamics\n",
    "gate = HoneycombGate(uc)"
   ]
  },
  {
   "cell_type": "code",
   "execution_count": 6,
   "metadata": {},
   "outputs": [],
   "source": []
  },
  {
   "cell_type": "code",
   "execution_count": null,
   "metadata": {},
   "outputs": [],
   "source": []
  }
 ],
 "metadata": {
  "kernelspec": {
   "display_name": "Python [conda env:root] *",
   "language": "python",
   "name": "conda-root-py"
  },
  "language_info": {
   "codemirror_mode": {
    "name": "ipython",
    "version": 3
   },
   "file_extension": ".py",
   "mimetype": "text/x-python",
   "name": "python",
   "nbconvert_exporter": "python",
   "pygments_lexer": "ipython3",
   "version": "3.7.4"
  }
 },
 "nbformat": 4,
 "nbformat_minor": 2
}
