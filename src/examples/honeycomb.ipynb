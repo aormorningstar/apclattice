{
 "cells": [
  {
   "cell_type": "code",
   "execution_count": 1,
   "metadata": {},
   "outputs": [],
   "source": [
    "import numpy as np\n",
    "import matplotlib.pyplot as plt\n",
    "from src.dof import DiscreteDOF\n",
    "from src.unitcell import HoneycombUnitCell\n",
    "from src.lattice import Lattice\n",
    "from src.gate import HoneycombGate"
   ]
  },
  {
   "cell_type": "code",
   "execution_count": 11,
   "metadata": {},
   "outputs": [],
   "source": [
    "# charge 0 or 1 on each site\n",
    "max_charge = 1\n",
    "# two sites per cell\n",
    "spc = 2\n",
    "# degrees of freedom\n",
    "dof = spc * [DiscreteDOF(0, max_charge)]\n",
    "# unit cell\n",
    "uc = HoneycombUnitCell(dof)\n",
    "# number of unit cells in each dimension\n",
    "L = [10, 10]\n",
    "# values of degrees of freedom on lattice sites\n",
    "vals = np.random.choice(range(0, max_charge+1), np.prod(L)*uc.spc)\n",
    "# the lattice\n",
    "lat = Lattice(uc, L, vals, periodic=True)"
   ]
  },
  {
   "cell_type": "code",
   "execution_count": 12,
   "metadata": {},
   "outputs": [
    {
     "data": {
      "text/plain": [
       "Text(0, 0.5, 'y')"
      ]
     },
     "execution_count": 12,
     "metadata": {},
     "output_type": "execute_result"
    },
    {
     "data": {
      "image/png": "[encoded data removed]",
      "text/plain": [
       "<Figure size 432x288 with 1 Axes>"
      ]
     },
     "metadata": {
      "needs_background": "light"
     },
     "output_type": "display_data"
    }
   ],
   "source": [
    "r = np.asarray([lat.position(site) for site in range(lat.nsites)])\n",
    "plt.scatter(r[:, 0], r[:, 1])\n",
    "plt.xlabel('x')\n",
    "plt.ylabel('y')"
   ]
  },
  {
   "cell_type": "code",
   "execution_count": null,
   "metadata": {},
   "outputs": [],
   "source": [
    "# gate to enact dynamics\n",
    "gate = HoneycombGate(uc)"
   ]
  }
 ],
 "metadata": {
  "kernelspec": {
   "display_name": "Python [conda env:root] *",
   "language": "python",
   "name": "conda-root-py"
  },
  "language_info": {
   "codemirror_mode": {
    "name": "ipython",
    "version": 3
   },
   "file_extension": ".py",
   "mimetype": "text/x-python",
   "name": "python",
   "nbconvert_exporter": "python",
   "pygments_lexer": "ipython3",
   "version": "3.7.4"
  }
 },
 "nbformat": 4,
 "nbformat_minor": 2
}
