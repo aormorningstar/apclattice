{
 "cells": [
  {
   "cell_type": "markdown",
   "metadata": {},
   "source": [
    "# Profiling of Demo\n",
    "    Alan Morningstar and Steven Li\n",
    "    Princeton University APC 524 Final Project\n",
    "    December 2020"
   ]
  },
  {
   "cell_type": "code",
   "execution_count": 1,
   "metadata": {},
   "outputs": [],
   "source": [
    "import numpy as np\n",
    "import matplotlib.pyplot as plt\n",
    "from src.dof import DiscreteDOF\n",
    "from src.unitcell import HoneycombUnitCell\n",
    "from src.lattice import Lattice\n",
    "from src.gate import HoneycombGate"
   ]
  },
  {
   "cell_type": "markdown",
   "metadata": {},
   "source": [
    "### Encapsulate demo code in a class"
   ]
  },
  {
   "cell_type": "code",
   "execution_count": 2,
   "metadata": {},
   "outputs": [],
   "source": [
    "class Demo:\n",
    "    \"\"\"Demoing the apclattice project.\"\"\"\n",
    "    \n",
    "    def __init__(self, L):\n",
    "        \"\"\"Initialize demo.\n",
    "        \n",
    "        :param L: List of two integers. Number of unit cells in each dimension of the honeycomb lattice.\n",
    "        \"\"\"\n",
    "        # honeycomb unit cell, two sites per cell, 0 or 1 particles per site\n",
    "        spc = 2\n",
    "        max_charge = 1\n",
    "        dof = spc * [DiscreteDOF(0, max_charge)]\n",
    "        self.uc = HoneycombUnitCell(dof)\n",
    "        # for now leave the system without particles and create the lattice\n",
    "        nsites = np.prod(L)*spc\n",
    "        vals = np.zeros(nsites, dtype=int)\n",
    "        self.lat = Lattice(self.uc, L, vals, periodic=True)\n",
    "        # gate to enact local dynamics\n",
    "        self.gate = HoneycombGate(self.uc)\n",
    "        \n",
    "    def plot(self, s=10):\n",
    "        \"\"\"Make an image of the lattice and values of degrees of freedom on each site.\n",
    "        \n",
    "        :param s: Size of marker passed to plt.scatter.\n",
    "        \"\"\"\n",
    "        # xy coordinates of each site\n",
    "        x, y = self.lat.positions.T\n",
    "        # color tan if 0, teal if 1\n",
    "        cmap = np.asarray(['#E1BE6A', '#40B0A6'])\n",
    "        # plot the positions\n",
    "        fig, ax = plt.subplots()\n",
    "        ax.scatter(x, y, marker='o', c = cmap[self.lat.vals], s=s)\n",
    "        # labels\n",
    "        ax.set_xlabel('x')\n",
    "        ax.set_ylabel('y')\n",
    "        ax.set_title('Honeycomb Lattice')\n",
    "        \n",
    "    def charge_blob(self):\n",
    "        \"\"\"Put a blob of charge in the middle of the lattice.\"\"\"\n",
    "        # center of the lattice\n",
    "        mean_r = np.mean(self.lat.positions, axis=0)\n",
    "        # distance from center\n",
    "        delta_r = np.sqrt(np.sum((self.lat.positions - mean_r)**2, axis=1))\n",
    "        # order sites by proximity to center\n",
    "        order = np.argsort(delta_r)\n",
    "        # fill half of sites closest to center with charge\n",
    "        cutoff = self.lat.nsites // 2\n",
    "        max_charge = 1\n",
    "        self.lat.vals[order[0:cutoff]] = max_charge\n",
    "        \n",
    "    def dynamics(self, t):\n",
    "        \"\"\"Run the dynamics of the lattice. Apply gates serially at random locations.\n",
    "        \n",
    "        :param t: Positive integer. The number of gates applied is t*nsites.\n",
    "        \"\"\"\n",
    "        for i in range(t*self.lat.nsites):\n",
    "            rand_i = np.random.choice(range(self.lat.nsites))\n",
    "            self.gate(self.lat, rand_i)"
   ]
  },
  {
   "source": [
    "### Load profilers\n",
    "You can install the profilers using `$ pip install line_profiler` and `$ pip install memory_profiler`."
   ],
   "cell_type": "markdown",
   "metadata": {}
  },
  {
   "cell_type": "code",
   "execution_count": null,
   "metadata": {},
   "outputs": [],
   "source": [
    "%load_ext line_profiler\n",
    "%load_ext memory_profiler"
   ]
  },
  {
   "cell_type": "markdown",
   "metadata": {},
   "source": [
    "### Initialize the demo"
   ]
  },
  {
   "cell_type": "code",
   "execution_count": 3,
   "metadata": {},
   "outputs": [
    {
     "output_type": "stream",
     "name": "stdout",
     "text": [
      "13.4 ms ± 1.29 ms per loop (mean ± std. dev. of 7 runs, 100 loops each)\n"
     ]
    }
   ],
   "source": [
    "# extent of lattice\n",
    "L = [25, 25]\n",
    "# create demo\n",
    "%timeit Demo(L)\n",
    "d = Demo(L)"
   ]
  },
  {
   "cell_type": "markdown",
   "metadata": {},
   "source": [
    "### Put charge in the lattice"
   ]
  },
  {
   "cell_type": "code",
   "execution_count": 4,
   "metadata": {},
   "outputs": [
    {
     "output_type": "stream",
     "name": "stdout",
     "text": [
      "164 µs ± 2.82 µs per loop (mean ± std. dev. of 7 runs, 10000 loops each)\n"
     ]
    }
   ],
   "source": [
    "%timeit d.charge_blob()"
   ]
  },
  {
   "cell_type": "markdown",
   "metadata": {},
   "source": [
    "### Run rounds of dynamics on the lattice to let the charge diffuse and plot"
   ]
  },
  {
   "cell_type": "code",
   "execution_count": 10,
   "metadata": {},
   "outputs": [
    {
     "output_type": "stream",
     "name": "stdout",
     "text": [
      "302 ms ± 45.5 ms per loop (mean ± std. dev. of 7 runs, 1 loop each)\n"
     ]
    }
   ],
   "source": [
    "# timestep, apply dt * nsites gates\n",
    "dt = 1\n",
    "%timeit d.dynamics(dt)"
   ]
  },
  {
   "cell_type": "code",
   "execution_count": 11,
   "metadata": {},
   "outputs": [
    {
     "output_type": "stream",
     "name": "stdout",
     "text": [
      "616 ms ± 32.4 ms per loop (mean ± std. dev. of 7 runs, 1 loop each)\n"
     ]
    }
   ],
   "source": [
    "dt = 2\n",
    "%timeit d.dynamics(dt)"
   ]
  },
  {
   "cell_type": "code",
   "execution_count": 12,
   "metadata": {},
   "outputs": [
    {
     "output_type": "stream",
     "name": "stdout",
     "text": [
      "2.91 s ± 264 ms per loop (mean ± std. dev. of 7 runs, 1 loop each)\n"
     ]
    }
   ],
   "source": [
    "dt = 8\n",
    "%timeit d.dynamics(dt)"
   ]
  },
  {
   "cell_type": "code",
   "execution_count": 13,
   "metadata": {},
   "outputs": [
    {
     "output_type": "stream",
     "name": "stdout",
     "text": [
      "5.25 s ± 381 ms per loop (mean ± std. dev. of 7 runs, 1 loop each)\n"
     ]
    }
   ],
   "source": [
    "dt = 16\n",
    "%timeit d.dynamics(dt)"
   ]
  },
  {
   "cell_type": "code",
   "execution_count": 14,
   "metadata": {},
   "outputs": [
    {
     "output_type": "stream",
     "name": "stdout",
     "text": [
      "11.1 s ± 276 ms per loop (mean ± std. dev. of 7 runs, 1 loop each)\n"
     ]
    }
   ],
   "source": [
    "dt = 32\n",
    "%timeit d.dynamics(dt)"
   ]
  },
  {
   "cell_type": "code",
   "execution_count": null,
   "metadata": {},
   "outputs": [],
   "source": []
  }
 ],
 "metadata": {
  "kernelspec": {
   "name": "python3",
   "display_name": "Python 3.8.2 64-bit",
   "metadata": {
    "interpreter": {
     "hash": "31f2aee4e71d21fbe5cf8b01ff0e069b9275f58929596ceb00d14d90e3e16cd6"
    }
   }
  },
  "language_info": {
   "codemirror_mode": {
    "name": "ipython",
    "version": 3
   },
   "file_extension": ".py",
   "mimetype": "text/x-python",
   "name": "python",
   "nbconvert_exporter": "python",
   "pygments_lexer": "ipython3",
   "version": "3.8.2-final"
  }
 },
 "nbformat": 4,
 "nbformat_minor": 2
}